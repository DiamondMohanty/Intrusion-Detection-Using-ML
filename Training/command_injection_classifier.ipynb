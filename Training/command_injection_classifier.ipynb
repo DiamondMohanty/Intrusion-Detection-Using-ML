{
  "nbformat": 4,
  "nbformat_minor": 0,
  "metadata": {
    "colab": {
      "name": "command_injection_classifier.ipynb",
      "provenance": [],
      "collapsed_sections": []
    },
    "kernelspec": {
      "name": "python3",
      "display_name": "Python 3"
    },
    "language_info": {
      "name": "python"
    }
  },
  "cells": [
    {
      "cell_type": "code",
      "metadata": {
        "id": "YBFiziL7y3Qf",
        "colab": {
          "base_uri": "https://localhost:8080/"
        },
        "outputId": "8268e7df-9038-4fcb-fedf-32f6db7b25e1"
      },
      "source": [
        "import pandas as pd\n",
        "import sklearn\n",
        "import nltk\n",
        "import pickle\n",
        "import os\n",
        "from sklearn.model_selection import train_test_split\n",
        "from sklearn.linear_model import LogisticRegression\n",
        "nltk.download('stopwords')\n",
        "from nltk.corpus import stopwords\n",
        "from sklearn.feature_extraction.text import TfidfVectorizer\n",
        "from sklearn.metrics import accuracy_score\n",
        "import numpy as np"
      ],
      "execution_count": 24,
      "outputs": [
        {
          "output_type": "stream",
          "name": "stdout",
          "text": [
            "[nltk_data] Downloading package stopwords to /root/nltk_data...\n",
            "[nltk_data]   Package stopwords is already up-to-date!\n"
          ]
        }
      ]
    },
    {
      "cell_type": "code",
      "metadata": {
        "id": "jc7h465wy9zw",
        "colab": {
          "base_uri": "https://localhost:8080/"
        },
        "outputId": "756ddd3c-e84d-4f56-de2d-0ad8d207bec9"
      },
      "source": [
        "# please change the path\n",
        "from google.colab import drive\n",
        "drive.mount('/content/gdrive', force_remount=True)\n"
      ],
      "execution_count": 25,
      "outputs": [
        {
          "output_type": "stream",
          "name": "stdout",
          "text": [
            "Mounted at /content/gdrive\n"
          ]
        }
      ]
    },
    {
      "cell_type": "code",
      "source": [
        "# Loading dataset of command injection\n",
        "PATH_TO_DATASET = '/content/gdrive/MyDrive/command-injection-merged.xlsx'\n",
        "dataset = pd.read_excel(PATH_TO_DATASET)"
      ],
      "metadata": {
        "id": "00uH25084NpH"
      },
      "execution_count": 26,
      "outputs": []
    },
    {
      "cell_type": "code",
      "metadata": {
        "colab": {
          "base_uri": "https://localhost:8080/",
          "height": 424
        },
        "id": "LYuhTgeA2J5s",
        "outputId": "22554652-798c-4f6a-cca6-19e331b8364f"
      },
      "source": [
        "# suffling dataset\n",
        "dataset.sample(frac=1).reset_index(drop=True)"
      ],
      "execution_count": 27,
      "outputs": [
        {
          "output_type": "execute_result",
          "data": {
            "text/html": [
              "<div>\n",
              "<style scoped>\n",
              "    .dataframe tbody tr th:only-of-type {\n",
              "        vertical-align: middle;\n",
              "    }\n",
              "\n",
              "    .dataframe tbody tr th {\n",
              "        vertical-align: top;\n",
              "    }\n",
              "\n",
              "    .dataframe thead th {\n",
              "        text-align: right;\n",
              "    }\n",
              "</style>\n",
              "<table border=\"1\" class=\"dataframe\">\n",
              "  <thead>\n",
              "    <tr style=\"text-align: right;\">\n",
              "      <th></th>\n",
              "      <th>Resquest</th>\n",
              "      <th>Labels</th>\n",
              "    </tr>\n",
              "  </thead>\n",
              "  <tbody>\n",
              "    <tr>\n",
              "      <th>0</th>\n",
              "      <td>mediodigital%20hydronephrosis%20inobedient%20e...</td>\n",
              "      <td>0</td>\n",
              "    </tr>\n",
              "    <tr>\n",
              "      <th>1</th>\n",
              "      <td>panapospory%20undeniably%20mycodomatium%20tapo...</td>\n",
              "      <td>0</td>\n",
              "    </tr>\n",
              "    <tr>\n",
              "      <th>2</th>\n",
              "      <td>nonfeldspathic%20Cologne%20Crotaphytus%20embat...</td>\n",
              "      <td>0</td>\n",
              "    </tr>\n",
              "    <tr>\n",
              "      <th>3</th>\n",
              "      <td>quinquegrade%20arsenoferratin%20Glycine%20gent...</td>\n",
              "      <td>0</td>\n",
              "    </tr>\n",
              "    <tr>\n",
              "      <th>4</th>\n",
              "      <td>wedgy%20interparoxysmal%20nonecompense%20humbu...</td>\n",
              "      <td>0</td>\n",
              "    </tr>\n",
              "    <tr>\n",
              "      <th>...</th>\n",
              "      <td>...</td>\n",
              "      <td>...</td>\n",
              "    </tr>\n",
              "    <tr>\n",
              "      <th>2510</th>\n",
              "      <td>sphaeraphides%20whitter%20palebuck%20Machiavel...</td>\n",
              "      <td>0</td>\n",
              "    </tr>\n",
              "    <tr>\n",
              "      <th>2511</th>\n",
              "      <td>unpunctual%20toxically%20skyphos%20mutagenic%2...</td>\n",
              "      <td>0</td>\n",
              "    </tr>\n",
              "    <tr>\n",
              "      <th>2512</th>\n",
              "      <td>nonmarital%20Suzan%20Argonne%20kamarezite%20si...</td>\n",
              "      <td>0</td>\n",
              "    </tr>\n",
              "    <tr>\n",
              "      <th>2513</th>\n",
              "      <td>nonroyalist%20extrapelvic%20plowmell%20timberl...</td>\n",
              "      <td>0</td>\n",
              "    </tr>\n",
              "    <tr>\n",
              "      <th>2514</th>\n",
              "      <td>ceylonite%20sulpharseniuret%20apoplex%20cowle%...</td>\n",
              "      <td>0</td>\n",
              "    </tr>\n",
              "  </tbody>\n",
              "</table>\n",
              "<p>2515 rows × 2 columns</p>\n",
              "</div>"
            ],
            "text/plain": [
              "                                               Resquest  Labels\n",
              "0     mediodigital%20hydronephrosis%20inobedient%20e...       0\n",
              "1     panapospory%20undeniably%20mycodomatium%20tapo...       0\n",
              "2     nonfeldspathic%20Cologne%20Crotaphytus%20embat...       0\n",
              "3     quinquegrade%20arsenoferratin%20Glycine%20gent...       0\n",
              "4     wedgy%20interparoxysmal%20nonecompense%20humbu...       0\n",
              "...                                                 ...     ...\n",
              "2510  sphaeraphides%20whitter%20palebuck%20Machiavel...       0\n",
              "2511  unpunctual%20toxically%20skyphos%20mutagenic%2...       0\n",
              "2512  nonmarital%20Suzan%20Argonne%20kamarezite%20si...       0\n",
              "2513  nonroyalist%20extrapelvic%20plowmell%20timberl...       0\n",
              "2514  ceylonite%20sulpharseniuret%20apoplex%20cowle%...       0\n",
              "\n",
              "[2515 rows x 2 columns]"
            ]
          },
          "metadata": {},
          "execution_count": 27
        }
      ]
    },
    {
      "cell_type": "code",
      "metadata": {
        "id": "3sfpWbcK2oC7"
      },
      "source": [
        "\n",
        "df = sklearn.utils.shuffle(dataset)"
      ],
      "execution_count": 28,
      "outputs": []
    },
    {
      "cell_type": "code",
      "metadata": {
        "id": "NPaWsyvP2xom"
      },
      "source": [
        "X=dataset['Resquest'].values\n",
        "Y=dataset['Labels'].values"
      ],
      "execution_count": 29,
      "outputs": []
    },
    {
      "cell_type": "code",
      "source": [
        "# Printing the features\n",
        "dataset['Resquest']"
      ],
      "metadata": {
        "colab": {
          "base_uri": "https://localhost:8080/"
        },
        "id": "J6nZIwJMxBDr",
        "outputId": "f5ba01e3-4f9c-4b4a-b1d7-c84d352e3cf2"
      },
      "execution_count": 30,
      "outputs": [
        {
          "output_type": "execute_result",
          "data": {
            "text/plain": [
              "0       hyperbola%20bigha%20regmacarp%20statistic%20mo...\n",
              "1       unfurrow%20organella%20amang%20patrimonial%20h...\n",
              "2       prepronouncement%20bicrescentic%20employer%20e...\n",
              "3       girasole%20pallescent%20podite%20undespoiled%2...\n",
              "4       Myxobacteriales%20hydrosulphide%20bromonaphtha...\n",
              "                              ...                        \n",
              "2510                                    {{person.secret}}\n",
              "2511                                      {{person.name}}\n",
              "2512                                            {1} + {1}\n",
              "2513        {% For c in [1,2,3]%} {{c, c, c}} {% endfor%}\n",
              "2514    {{[] .__ Class __.__ base __.__ subclasses __ ...\n",
              "Name: Resquest, Length: 2515, dtype: object"
            ]
          },
          "metadata": {},
          "execution_count": 30
        }
      ]
    },
    {
      "cell_type": "code",
      "metadata": {
        "id": "7cIUEsas_qdL"
      },
      "source": [
        "# Converting the strings into vectors using TFIDF vectorizer\n",
        "vectorizer = TfidfVectorizer(stop_words=stopwords.words('english'))\n",
        "X = vectorizer.fit_transform(X.astype('U')).toarray()"
      ],
      "execution_count": 31,
      "outputs": []
    },
    {
      "cell_type": "code",
      "metadata": {
        "id": "Z5b89hD-3Wi1"
      },
      "source": [
        "# Splitting dataset into training and testing\n",
        "X_train, X_test, Y_train, Y_test = train_test_split(X, Y, test_size=0.33) "
      ],
      "execution_count": 32,
      "outputs": []
    },
    {
      "cell_type": "code",
      "metadata": {
        "id": "l1QgKkUe42lc",
        "colab": {
          "base_uri": "https://localhost:8080/"
        },
        "outputId": "ae7ad6d0-11de-435d-c257-6459398ad49d"
      },
      "source": [
        "Y_train"
      ],
      "execution_count": 33,
      "outputs": [
        {
          "output_type": "execute_result",
          "data": {
            "text/plain": [
              "array([0, 1, 1, ..., 1, 1, 0])"
            ]
          },
          "metadata": {},
          "execution_count": 33
        }
      ]
    },
    {
      "cell_type": "code",
      "metadata": {
        "id": "2yGm8ljy5ePN"
      },
      "source": [
        "# Training the classifier\n",
        "model = LogisticRegression().fit(X_train, Y_train)"
      ],
      "execution_count": 34,
      "outputs": []
    },
    {
      "cell_type": "code",
      "metadata": {
        "id": "KwwhurTIBB9v",
        "colab": {
          "base_uri": "https://localhost:8080/"
        },
        "outputId": "aeed44be-37d4-4d33-dbba-af94d891a34f"
      },
      "source": [
        "# Predicting the output labels on test data\n",
        "Y_pred = model.predict(X_test)\n",
        "\n",
        "# Calculating accuracy score\n",
        "print('Testing accuracy of logisctic Regression classifies on command injection datase is --',accuracy_score(Y_test, Y_pred)*100)"
      ],
      "execution_count": 35,
      "outputs": [
        {
          "output_type": "stream",
          "name": "stdout",
          "text": [
            "Testing accuracy of logisctic Regression classifies on command injection datase is -- 94.81927710843372\n"
          ]
        }
      ]
    },
    {
      "cell_type": "code",
      "metadata": {
        "id": "BJiOhJIYBKHU"
      },
      "source": [
        "# Saving the model\n",
        "save_location = '/content/gdrive/MyDrive'\n",
        "model_name = 'command_injection_model.sav'\n",
        "save_model = {\n",
        "    'model': model,\n",
        "    'vectorizer': vectorizer\n",
        "}\n",
        "pickle.dump(save_model, open(os.path.join(save_location, model_name), 'wb'))"
      ],
      "execution_count": 36,
      "outputs": []
    },
    {
      "cell_type": "code",
      "metadata": {
        "id": "HoUEW0N0D4Sd"
      },
      "source": [
        "# Fetching the model\n",
        "save_location = '/content/gdrive/MyDrive'\n",
        "model_name = 'command_injection_model.sav'\n",
        "fetch_model = pickle.load(open(os.path.join(save_location, model_name), 'rb'))\n",
        "model = fetch_model['model']\n",
        "vectorizer = fetch_model['vectorizer']"
      ],
      "execution_count": 37,
      "outputs": []
    },
    {
      "cell_type": "code",
      "metadata": {
        "id": "Tq-KF-c0XYHz"
      },
      "source": [
        "# Testing saved model with the url\n",
        "test_corpus = [\n",
        "  'abc',\n",
        "  # 'http://localhost:500/sql-inject?q=1001'\n",
        "]\n",
        "test_query = vectorizer.transform(test_corpus).toarray()"
      ],
      "execution_count": 38,
      "outputs": []
    },
    {
      "cell_type": "code",
      "metadata": {
        "id": "ylLpWgo0Xs-p"
      },
      "source": [
        "test_prediction = model.predict(test_query)"
      ],
      "execution_count": 39,
      "outputs": []
    },
    {
      "cell_type": "code",
      "metadata": {
        "colab": {
          "base_uri": "https://localhost:8080/"
        },
        "id": "kapZCdboXt3i",
        "outputId": "fa1b4a1f-84f4-4e76-90e6-a67957196c82"
      },
      "source": [
        "int(test_prediction[0])"
      ],
      "execution_count": 40,
      "outputs": [
        {
          "output_type": "execute_result",
          "data": {
            "text/plain": [
              "0"
            ]
          },
          "metadata": {},
          "execution_count": 40
        }
      ]
    }
  ]
}