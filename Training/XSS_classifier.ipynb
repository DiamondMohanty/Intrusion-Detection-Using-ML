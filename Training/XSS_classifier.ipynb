{
  "nbformat": 4,
  "nbformat_minor": 0,
  "metadata": {
    "colab": {
      "name": "XSS_classifier.ipynb",
      "provenance": []
    },
    "kernelspec": {
      "name": "python3",
      "display_name": "Python 3"
    },
    "language_info": {
      "name": "python"
    }
  },
  "cells": [
    {
      "cell_type": "code",
      "metadata": {
        "id": "linRiW8q76c2"
      },
      "source": [
        "# Importing libraries\n",
        "from sklearn.model_selection import train_test_split\n",
        "import pandas as pd\n",
        "import pickle\n",
        "import os\n",
        "from sklearn.feature_extraction.text import TfidfVectorizer\n",
        "from sklearn.linear_model import LogisticRegression\n",
        "from sklearn.metrics import accuracy_score\n",
        "import nltk\n",
        "from nltk.corpus import stopwords"
      ],
      "execution_count": 14,
      "outputs": []
    },
    {
      "cell_type": "code",
      "metadata": {
        "colab": {
          "base_uri": "https://localhost:8080/"
        },
        "id": "JF-X_SC89ILZ",
        "outputId": "3725c17c-2485-41ef-e26b-231f6641916a"
      },
      "source": [
        "nltk.download('stopwords')"
      ],
      "execution_count": 15,
      "outputs": [
        {
          "output_type": "stream",
          "name": "stdout",
          "text": [
            "[nltk_data] Downloading package stopwords to /root/nltk_data...\n",
            "[nltk_data]   Package stopwords is already up-to-date!\n"
          ]
        },
        {
          "output_type": "execute_result",
          "data": {
            "text/plain": [
              "True"
            ]
          },
          "metadata": {},
          "execution_count": 15
        }
      ]
    },
    {
      "cell_type": "code",
      "metadata": {
        "id": "31zkINhn-Vzi",
        "colab": {
          "base_uri": "https://localhost:8080/"
        },
        "outputId": "cc8657b4-2da9-40ee-80b6-c6aa69298407"
      },
      "source": [
        "# Mounting google colab\n",
        "from google.colab import drive\n",
        "drive.mount('/content/gdrive', force_remount=True)"
      ],
      "execution_count": 16,
      "outputs": [
        {
          "output_type": "stream",
          "name": "stdout",
          "text": [
            "Mounted at /content/gdrive\n"
          ]
        }
      ]
    },
    {
      "cell_type": "code",
      "source": [
        "# Loading dataset\n",
        "# Please change the path of dataset according to your directory\n",
        "PATH_TO_DATASET = '/content/gdrive/MyDrive/XSS_dataset.csv'\n",
        "dataset = pd.read_csv(PATH_TO_DATASET)"
      ],
      "metadata": {
        "id": "-koSewBx0s3q"
      },
      "execution_count": 17,
      "outputs": []
    },
    {
      "cell_type": "code",
      "metadata": {
        "id": "EgNktNJskfSf"
      },
      "source": [
        "# dataset.shape\n",
        "X = dataset['Sentence'].values\n",
        "Y = dataset['Label'].values\n",
        "# print(X)"
      ],
      "execution_count": 18,
      "outputs": []
    },
    {
      "cell_type": "code",
      "metadata": {
        "id": "UrfynwhKtFAk"
      },
      "source": [
        "# converting the text tnto vectors using TFIDF vectorizer\n",
        "vectorizer = TfidfVectorizer(stop_words=stopwords.words('english'))\n",
        "X = vectorizer.fit_transform(X.astype('U')).toarray()"
      ],
      "execution_count": 19,
      "outputs": []
    },
    {
      "cell_type": "code",
      "metadata": {
        "id": "fvkESb2h-wEv"
      },
      "source": [
        "# splitting data into training and testing\n",
        "X_train, X_test, Y_train, Y_test = train_test_split(X, Y, test_size=0.30) "
      ],
      "execution_count": 20,
      "outputs": []
    },
    {
      "cell_type": "code",
      "metadata": {
        "id": "R0L26YNH_RMZ"
      },
      "source": [
        "# Training the Logistic Regression classifier for XSS \n",
        "model = LogisticRegression().fit(X_train, Y_train)"
      ],
      "execution_count": 21,
      "outputs": []
    },
    {
      "cell_type": "code",
      "metadata": {
        "id": "vnE-32tS_gcG",
        "colab": {
          "base_uri": "https://localhost:8080/"
        },
        "outputId": "9713a8f7-914a-43f0-ff84-6fe99d2d707f"
      },
      "source": [
        "# Testing the classifier\n",
        "Y_pred = model.predict(X_test)\n",
        "\n",
        "# Calculating the accuracy on unseen testing data\n",
        "print('Test accuracy of Logistic Regression classifier on XSS dataset is',accuracy_score(Y_test, Y_pred)*100) "
      ],
      "execution_count": 22,
      "outputs": [
        {
          "output_type": "stream",
          "name": "stdout",
          "text": [
            "Test accuracy of Logistic Regression classifier on XSS dataset is 99.61032635168047\n"
          ]
        }
      ]
    },
    {
      "cell_type": "code",
      "metadata": {
        "id": "4BxSPmTzmIpE"
      },
      "source": [
        "# Saving the model\n",
        "import pickle\n",
        "import os\n",
        "# Provide the location where you want to save the model in your machine\n",
        "save_location = '/content/gdrive/MyDrive'\n",
        "model_name = 'xss_model.sav'\n",
        "save_model = {\n",
        "    'model': model,\n",
        "    'vectorizer' : vectorizer\n",
        "}\n",
        "pickle.dump(save_model, open(os.path.join(save_location, model_name), 'wb'))"
      ],
      "execution_count": 23,
      "outputs": []
    }
  ]
}