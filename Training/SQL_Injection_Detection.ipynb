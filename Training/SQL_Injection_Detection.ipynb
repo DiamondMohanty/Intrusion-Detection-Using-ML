{
  "nbformat": 4,
  "nbformat_minor": 0,
  "metadata": {
    "colab": {
      "name": "SQL Injection Detection.ipynb",
      "provenance": [],
      "collapsed_sections": []
    },
    "kernelspec": {
      "name": "python3",
      "display_name": "Python 3"
    },
    "language_info": {
      "name": "python"
    }
  },
  "cells": [
    {
      "cell_type": "markdown",
      "metadata": {
        "id": "kqxAhAXB0qpy"
      },
      "source": [
        "Dataset Reference: https://www.kaggle.com/syedsaqlainhussain/sql-injection-dataset"
      ]
    },
    {
      "cell_type": "code",
      "metadata": {
        "colab": {
          "base_uri": "https://localhost:8080/"
        },
        "id": "linRiW8q76c2",
        "outputId": "be7636f0-576f-4223-b572-d663bc858e75"
      },
      "source": [
        "# Mounting google colab\n",
        "from google.colab import drive\n",
        "drive.mount('/content/gdrive', force_remount=True)"
      ],
      "execution_count": null,
      "outputs": [
        {
          "output_type": "stream",
          "name": "stdout",
          "text": [
            "Mounted at /content/gdrive\n"
          ]
        }
      ]
    },
    {
      "cell_type": "code",
      "metadata": {
        "colab": {
          "base_uri": "https://localhost:8080/"
        },
        "id": "JF-X_SC89ILZ",
        "outputId": "edad5956-38de-4397-c02e-ebcf2de90acf"
      },
      "source": [
        "import nltk\n",
        "nltk.download('stopwords')\n",
        "from nltk.corpus import stopwords\n",
        "import pandas as pd"
      ],
      "execution_count": null,
      "outputs": [
        {
          "output_type": "stream",
          "name": "stdout",
          "text": [
            "[nltk_data] Downloading package stopwords to /root/nltk_data...\n",
            "[nltk_data]   Unzipping corpora/stopwords.zip.\n"
          ]
        }
      ]
    },
    {
      "cell_type": "code",
      "metadata": {
        "id": "31zkINhn-Vzi"
      },
      "source": [
        "PATH_TO_DATASET = '/content/gdrive/MyDrive/Datasets/Security/sqli.csv'\n",
        "dataset = pd.read_csv(PATH_TO_DATASET, encoding='utf-16')"
      ],
      "execution_count": null,
      "outputs": []
    },
    {
      "cell_type": "code",
      "metadata": {
        "id": "hNLgEpt3-boR"
      },
      "source": [
        "# Converting the words to vectors\n",
        "from sklearn.feature_extraction.text import CountVectorizer\n",
        "vectorizer = CountVectorizer(stop_words=stopwords.words('english'))\n",
        "queries = vectorizer.fit_transform(dataset['Sentence'].values.astype('U')).toarray()    "
      ],
      "execution_count": null,
      "outputs": []
    },
    {
      "cell_type": "code",
      "metadata": {
        "id": "fvkESb2h-wEv"
      },
      "source": [
        "# Train and Test Split\n",
        "from sklearn.model_selection import train_test_split\n",
        "Y = dataset.Label\n",
        "X = queries\n",
        "X_train, X_test, Y_train, Y_test = train_test_split(X, Y, test_size=0.33) "
      ],
      "execution_count": null,
      "outputs": []
    },
    {
      "cell_type": "code",
      "metadata": {
        "id": "R0L26YNH_RMZ"
      },
      "source": [
        "# Training the classifier\n",
        "from sklearn.linear_model import LogisticRegression\n",
        "model = LogisticRegression().fit(X_train, Y_train)"
      ],
      "execution_count": null,
      "outputs": []
    },
    {
      "cell_type": "code",
      "metadata": {
        "colab": {
          "base_uri": "https://localhost:8080/"
        },
        "id": "vnE-32tS_gcG",
        "outputId": "6e880845-6188-4e75-f841-087b09a570a1"
      },
      "source": [
        "# Testing the accuracy\n",
        "from sklearn.metrics import accuracy_score\n",
        "Y_pred = model.predict(X_test)\n",
        "accuracy_score(Y_test, Y_pred)  "
      ],
      "execution_count": null,
      "outputs": [
        {
          "output_type": "execute_result",
          "data": {
            "text/plain": [
              "0.9321789321789322"
            ]
          },
          "metadata": {},
          "execution_count": 7
        }
      ]
    },
    {
      "cell_type": "code",
      "metadata": {
        "id": "bHnYSIzk_xnK"
      },
      "source": [
        "# Saving the model\n",
        "import pickle\n",
        "import os\n",
        "save_location = '/content/gdrive/MyDrive/Models/Security Models'\n",
        "model_name = 'sql_inject_model.sav'\n",
        "save_model = {\n",
        "    'model': model,\n",
        "    'vectorizer': vectorizer\n",
        "}\n",
        "pickle.dump(save_model, open(os.path.join(save_location, model_name), 'wb'))"
      ],
      "execution_count": null,
      "outputs": []
    },
    {
      "cell_type": "code",
      "metadata": {
        "id": "yGcZwexcweyr"
      },
      "source": [
        "# Fetching the model\n",
        "import pickle\n",
        "import os\n",
        "save_location = '/content/gdrive/MyDrive/Models/Security Models'\n",
        "model_name = 'sql_inject_model.sav'\n",
        "fetch_model = pickle.load(open(os.path.join(save_location, model_name), 'rb'))\n",
        "model = fetch_model['model']\n",
        "vectorizer = fetch_model['vectorizer']\n"
      ],
      "execution_count": null,
      "outputs": []
    },
    {
      "cell_type": "code",
      "metadata": {
        "id": "SbnFZCyDUOOI"
      },
      "source": [
        "test_corpus = [\n",
        "  'http://localhost:500/sql-inject?q=select * from emp where 1 = 1',\n",
        "  # 'http://localhost:500/sql-inject?q=1001'\n",
        "]\n",
        "test_query = vectorizer.transform(test_corpus).toarray()"
      ],
      "execution_count": null,
      "outputs": []
    },
    {
      "cell_type": "code",
      "metadata": {
        "id": "UHjs64_nTsj3"
      },
      "source": [
        "test_prediction = model.predict(test_query)"
      ],
      "execution_count": null,
      "outputs": []
    },
    {
      "cell_type": "code",
      "metadata": {
        "colab": {
          "base_uri": "https://localhost:8080/"
        },
        "id": "Va_yvQhotW8q",
        "outputId": "8573fa4b-91dd-464b-b242-4f55c326be64"
      },
      "source": [
        "int(test_prediction[0])"
      ],
      "execution_count": null,
      "outputs": [
        {
          "output_type": "execute_result",
          "data": {
            "text/plain": [
              "1"
            ]
          },
          "metadata": {},
          "execution_count": 14
        }
      ]
    },
    {
      "cell_type": "code",
      "metadata": {
        "id": "ngf2Jbj1yrPn"
      },
      "source": [
        ""
      ],
      "execution_count": null,
      "outputs": []
    }
  ]
}